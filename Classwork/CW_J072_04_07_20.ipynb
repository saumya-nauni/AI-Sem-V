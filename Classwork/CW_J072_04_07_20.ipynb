{
  "nbformat": 4,
  "nbformat_minor": 0,
  "metadata": {
    "colab": {
      "name": "CW_J072_04-07-20.ipynb",
      "provenance": [],
      "collapsed_sections": [],
      "authorship_tag": "ABX9TyODraCrzwqBDH0j6rPaHR0z",
      "include_colab_link": true
    },
    "kernelspec": {
      "name": "python3",
      "display_name": "Python 3"
    }
  },
  "cells": [
    {
      "cell_type": "markdown",
      "metadata": {
        "id": "view-in-github",
        "colab_type": "text"
      },
      "source": [
        "<a href=\"https://colab.research.google.com/github/saumya-nauni/Artificial-Intelligence/blob/master/Classwork/CW_J072_04_07_20.ipynb\" target=\"_parent\"><img src=\"https://colab.research.google.com/assets/colab-badge.svg\" alt=\"Open In Colab\"/></a>"
      ]
    },
    {
      "cell_type": "code",
      "metadata": {
        "id": "CZzb6cdO4owl",
        "colab_type": "code",
        "colab": {}
      },
      "source": [
        "#list\n",
        "a=[1,2,3,4,'human']\n",
        "b=[[1,2,3,4,'human'],[1,2,3,4,'human'],[1,2,3,4,'human']]\n",
        "\n",
        "#tuple\n",
        "c=(1,2,3,4,'human')\n",
        "\n",
        "#set\n",
        "d={1,2,3,4,'human'}\n",
        "\n",
        "#dictionary\n",
        "e={'list':[1,2,3,4,'human'],\n",
        "   'tuple':(1,2,3,4,'human'),\n",
        "   'set':{1,2,3,4,'human'}}\n"
      ],
      "execution_count": 11,
      "outputs": []
    },
    {
      "cell_type": "code",
      "metadata": {
        "id": "J4x-UcRv4kjV",
        "colab_type": "code",
        "colab": {}
      },
      "source": [
        "#lists cant be a part of a set\n",
        "a={[1,2,3,4,'human']}\n",
        "\n",
        "#sets cant be a part of a different set\n",
        "a={{1,2,3,4,'human'}}\n",
        "\n",
        "#tuples cannot be in a set\n",
        "a={(1,2,3,4,'human')}"
      ],
      "execution_count": null,
      "outputs": []
    },
    {
      "cell_type": "code",
      "metadata": {
        "id": "gC5K5ps95Ct_",
        "colab_type": "code",
        "colab": {
          "base_uri": "https://localhost:8080/",
          "height": 34
        },
        "outputId": "8e5a483a-e9d1-44f5-8181-92428a63c335"
      },
      "source": [
        "#repeated values are not displayed i.e sets have distinct values\n",
        "a={1,2,2,3,4,5,6,7,8,8,8,9,0,0}\n",
        "a"
      ],
      "execution_count": 12,
      "outputs": [
        {
          "output_type": "execute_result",
          "data": {
            "text/plain": [
              "{0, 1, 2, 3, 4, 5, 6, 7, 8, 9}"
            ]
          },
          "metadata": {
            "tags": []
          },
          "execution_count": 12
        }
      ]
    },
    {
      "cell_type": "code",
      "metadata": {
        "id": "zw5HVUKb5vsg",
        "colab_type": "code",
        "colab": {
          "base_uri": "https://localhost:8080/",
          "height": 181
        },
        "outputId": "0fb4feb6-d5f6-4ad9-a9e7-f29127d3c190"
      },
      "source": [
        "#sets dont support indexing\n",
        "a[3]"
      ],
      "execution_count": 13,
      "outputs": [
        {
          "output_type": "error",
          "ename": "TypeError",
          "evalue": "ignored",
          "traceback": [
            "\u001b[0;31m---------------------------------------------------------------------------\u001b[0m",
            "\u001b[0;31mTypeError\u001b[0m                                 Traceback (most recent call last)",
            "\u001b[0;32m<ipython-input-13-7d41ec7f1ce5>\u001b[0m in \u001b[0;36m<module>\u001b[0;34m()\u001b[0m\n\u001b[1;32m      1\u001b[0m \u001b[0;31m#sets dont support indexing\u001b[0m\u001b[0;34m\u001b[0m\u001b[0;34m\u001b[0m\u001b[0;34m\u001b[0m\u001b[0m\n\u001b[0;32m----> 2\u001b[0;31m \u001b[0ma\u001b[0m\u001b[0;34m[\u001b[0m\u001b[0;36m3\u001b[0m\u001b[0;34m]\u001b[0m\u001b[0;34m\u001b[0m\u001b[0;34m\u001b[0m\u001b[0m\n\u001b[0m",
            "\u001b[0;31mTypeError\u001b[0m: 'set' object does not support indexing"
          ]
        }
      ]
    },
    {
      "cell_type": "code",
      "metadata": {
        "id": "h2nj62ZqPc9v",
        "colab_type": "code",
        "colab": {
          "base_uri": "https://localhost:8080/",
          "height": 34
        },
        "outputId": "6ac4a664-9629-42c3-e65a-c99079db95a7"
      },
      "source": [
        "b={1,2,2,3,4,6}\n",
        "b.pop()"
      ],
      "execution_count": null,
      "outputs": [
        {
          "output_type": "execute_result",
          "data": {
            "text/plain": [
              "1"
            ]
          },
          "metadata": {
            "tags": []
          },
          "execution_count": 10
        }
      ]
    },
    {
      "cell_type": "code",
      "metadata": {
        "id": "m3ZLIpoxRRyc",
        "colab_type": "code",
        "colab": {
          "base_uri": "https://localhost:8080/",
          "height": 34
        },
        "outputId": "b3c2064a-37e2-44fa-f61a-74072f76cd15"
      },
      "source": [
        "if 2 in b:\n",
        "  print('true')\n",
        "else:\n",
        "  print('false')"
      ],
      "execution_count": null,
      "outputs": [
        {
          "output_type": "stream",
          "text": [
            "true\n"
          ],
          "name": "stdout"
        }
      ]
    },
    {
      "cell_type": "code",
      "metadata": {
        "id": "xc2xUUloRYMQ",
        "colab_type": "code",
        "colab": {
          "base_uri": "https://localhost:8080/",
          "height": 34
        },
        "outputId": "af4dbc7e-f506-41e1-fa37-073912e17479"
      },
      "source": [
        "b={1,2,3,4,5}\n",
        "7 in b"
      ],
      "execution_count": null,
      "outputs": [
        {
          "output_type": "execute_result",
          "data": {
            "text/plain": [
              "False"
            ]
          },
          "metadata": {
            "tags": []
          },
          "execution_count": 7
        }
      ]
    }
  ]
}