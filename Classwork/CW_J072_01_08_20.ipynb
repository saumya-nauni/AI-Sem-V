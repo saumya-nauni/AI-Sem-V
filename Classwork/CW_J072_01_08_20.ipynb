{
  "nbformat": 4,
  "nbformat_minor": 0,
  "metadata": {
    "colab": {
      "name": "CW_J072_01_08_20.ipynb",
      "provenance": [],
      "authorship_tag": "ABX9TyOEcyFAS6FRCMRT08UI31zS",
      "include_colab_link": true
    },
    "kernelspec": {
      "name": "python3",
      "display_name": "Python 3"
    }
  },
  "cells": [
    {
      "cell_type": "markdown",
      "metadata": {
        "id": "view-in-github",
        "colab_type": "text"
      },
      "source": [
        "<a href=\"https://colab.research.google.com/github/saumya-nauni/AI-Sem-V/blob/master/Classwork/CW_J072_01_08_20.ipynb\" target=\"_parent\"><img src=\"https://colab.research.google.com/assets/colab-badge.svg\" alt=\"Open In Colab\"/></a>"
      ]
    },
    {
      "cell_type": "code",
      "metadata": {
        "id": "RhfnlAVr2_AB",
        "colab_type": "code",
        "colab": {}
      },
      "source": [
        "## Calculating factorial\n",
        "\n",
        "def factorial_recursion(n):\n",
        "  factor=1\n",
        "  if(n==0):\n",
        "    return factor\n",
        "  else:\n",
        "    return n*factorial_recursion(n-1)"
      ],
      "execution_count": 1,
      "outputs": []
    },
    {
      "cell_type": "code",
      "metadata": {
        "id": "JDyAObTNB2zo",
        "colab_type": "code",
        "colab": {
          "base_uri": "https://localhost:8080/",
          "height": 34
        },
        "outputId": "d21c2a2d-eb9c-435c-975a-d020eea385dc"
      },
      "source": [
        "factorial_recursion(7)"
      ],
      "execution_count": 3,
      "outputs": [
        {
          "output_type": "execute_result",
          "data": {
            "text/plain": [
              "5040"
            ]
          },
          "metadata": {
            "tags": []
          },
          "execution_count": 3
        }
      ]
    },
    {
      "cell_type": "code",
      "metadata": {
        "id": "_AaX6WDxBXyp",
        "colab_type": "code",
        "colab": {}
      },
      "source": [
        "def factorial_simpl(n):\n",
        "  factor=1\n",
        "  for i in range(1,n+1):\n",
        "    factor=factor*i\n",
        "  return factor"
      ],
      "execution_count": 4,
      "outputs": []
    },
    {
      "cell_type": "code",
      "metadata": {
        "id": "2P1DL5GpB62Z",
        "colab_type": "code",
        "colab": {
          "base_uri": "https://localhost:8080/",
          "height": 34
        },
        "outputId": "8bbeace8-ae39-4325-9ade-0b9af48a14e7"
      },
      "source": [
        "factorial_simpl(7)"
      ],
      "execution_count": 5,
      "outputs": [
        {
          "output_type": "execute_result",
          "data": {
            "text/plain": [
              "5040"
            ]
          },
          "metadata": {
            "tags": []
          },
          "execution_count": 5
        }
      ]
    },
    {
      "cell_type": "code",
      "metadata": {
        "id": "hJT0BWt_BYga",
        "colab_type": "code",
        "colab": {
          "base_uri": "https://localhost:8080/",
          "height": 34
        },
        "outputId": "427025dc-be9b-462e-adb0-0b12259be82e"
      },
      "source": [
        "def fibonacci(n):\n",
        "  if n <= 1:\n",
        "    return n\n",
        "  else:\n",
        "    return fibonacci(n-1)+fibonacci(n-2)\n",
        "\n",
        "fibonacci((9-1))"
      ],
      "execution_count": 6,
      "outputs": [
        {
          "output_type": "execute_result",
          "data": {
            "text/plain": [
              "21"
            ]
          },
          "metadata": {
            "tags": []
          },
          "execution_count": 6
        }
      ]
    },
    {
      "cell_type": "code",
      "metadata": {
        "id": "tkBA-bDxBbVW",
        "colab_type": "code",
        "colab": {
          "base_uri": "https://localhost:8080/",
          "height": 34
        },
        "outputId": "03a64d38-19c5-4006-ef69-a28a243a2cc3"
      },
      "source": [
        "def recur_fibo(n):\n",
        "  fibo = []\n",
        "  fibo.append(0); fibo.append(1)\n",
        "  for i in range (2, n+1):\n",
        "    fibo.append(fibo[i-1]+fibo[i-2])\n",
        "  return fibo[n]\n",
        "\n",
        "recur_fibo((9-1))"
      ],
      "execution_count": 7,
      "outputs": [
        {
          "output_type": "execute_result",
          "data": {
            "text/plain": [
              "21"
            ]
          },
          "metadata": {
            "tags": []
          },
          "execution_count": 7
        }
      ]
    },
    {
      "cell_type": "code",
      "metadata": {
        "id": "mbe71bUSBfTc",
        "colab_type": "code",
        "colab": {
          "base_uri": "https://localhost:8080/",
          "height": 34
        },
        "outputId": "fa1d7994-0e75-424b-9355-c739d69b6681"
      },
      "source": [
        "ls = [5,34,2,23,76,43,3,67,87,54]\n",
        "\n",
        "def bin_search(low, high, n, lt):\n",
        "  if high >= low:\n",
        "    mid = (high+low)//2\n",
        "    if lt[mid] == n:\n",
        "      return mid\n",
        "    elif n < lt[mid]:\n",
        "      return bin_search(low, mid-1, n, lt)\n",
        "    elif n > lt[mid]:\n",
        "      return bin_search(mid+1, high, n, lt)\n",
        "  else:\n",
        "    return 'Not Found'\n",
        "\n",
        "ls.sort()\n",
        "a = bin_search(0, len(ls)-1, 100, ls)\n",
        "print(a)"
      ],
      "execution_count": 8,
      "outputs": [
        {
          "output_type": "stream",
          "text": [
            "Not Found\n"
          ],
          "name": "stdout"
        }
      ]
    },
    {
      "cell_type": "markdown",
      "metadata": {
        "id": "vZKpJoD_BiCO",
        "colab_type": "text"
      },
      "source": [
        "Tractable - PTIME (Polynomial Time Solvable)\n",
        "Polynomial - Expression where each term is n^k where k can be any whole number\n",
        "Degree of the polynomial highest power of the variable within the expression\n",
        "\n",
        "Polynomial Time - Runtime of the code or solution should be a polynomial of degree k where k is a constant, and since it is time n cannot be negative\n",
        "n : Input space or dimension eg O(n^4) - 3n^4 + 2n^2 + 1\n",
        "\n",
        "n=1 => 1\n",
        "\n",
        "n=2 => 2^4\n",
        "\n",
        "n=3 => 3^4\n",
        "\n",
        "n=4 => 4^4\n",
        "\n",
        "O(n!)\n",
        "\n",
        "nn - 1n - 2*n -> Polynomial Of Degree n-1"
      ]
    }
  ]
}