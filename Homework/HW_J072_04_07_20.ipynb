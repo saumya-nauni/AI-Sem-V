{
  "nbformat": 4,
  "nbformat_minor": 0,
  "metadata": {
    "colab": {
      "name": "HW_J072_04-07-20.ipynb",
      "provenance": [],
      "collapsed_sections": [],
      "authorship_tag": "ABX9TyMpDTOHw+XEhJEie4HY67Xy",
      "include_colab_link": true
    },
    "kernelspec": {
      "name": "python3",
      "display_name": "Python 3"
    }
  },
  "cells": [
    {
      "cell_type": "markdown",
      "metadata": {
        "id": "view-in-github",
        "colab_type": "text"
      },
      "source": [
        "<a href=\"https://colab.research.google.com/github/saumya-nauni/Artificial-Intelligence/blob/master/Homework/HW_J072_04_07_20.ipynb\" target=\"_parent\"><img src=\"https://colab.research.google.com/assets/colab-badge.svg\" alt=\"Open In Colab\"/></a>"
      ]
    },
    {
      "cell_type": "code",
      "metadata": {
        "id": "Pp0FpC7BmL_f",
        "colab_type": "code",
        "colab": {}
      },
      "source": [
        "#python if-else\n",
        "n = int(input())\n",
        "if n % 2 == 1:\n",
        "    print(\"Weird\")\n",
        "elif n % 2 == 0 and 2 <= n <= 5:\n",
        "    print(\"Not Weird\")\n",
        "elif n % 2 == 0 and 6 <= n <= 20:\n",
        "    print(\"Weird\")\n",
        "else:\n",
        "    print(\"Not Weird\")"
      ],
      "execution_count": null,
      "outputs": []
    },
    {
      "cell_type": "code",
      "metadata": {
        "id": "hpB44xP5mPAn",
        "colab_type": "code",
        "colab": {}
      },
      "source": [
        "#arithmetic operators\n",
        "a=int(input())\n",
        "b=int(input())\n",
        "c=a+b\n",
        "print(c)\n",
        "d=a-b\n",
        "print(d)\n",
        "e=a*b\n",
        "print(e)"
      ],
      "execution_count": null,
      "outputs": []
    },
    {
      "cell_type": "code",
      "metadata": {
        "id": "H0zaBG87m0XE",
        "colab_type": "code",
        "colab": {}
      },
      "source": [
        "#python:Division\n",
        "a=float(input())\n",
        "b=float(input())\n",
        "c=a//b\n",
        "print(c)\n",
        "d=a/b\n",
        "print(d)"
      ],
      "execution_count": null,
      "outputs": []
    },
    {
      "cell_type": "code",
      "metadata": {
        "id": "pRrHYimQntbK",
        "colab_type": "code",
        "colab": {}
      },
      "source": [
        "#loops\n",
        "for i in range(input()):\n",
        "    a=i*i\n",
        "    print(a)\n"
      ],
      "execution_count": null,
      "outputs": []
    },
    {
      "cell_type": "code",
      "metadata": {
        "id": "vdpcmSRmpKUm",
        "colab_type": "code",
        "colab": {
          "base_uri": "https://localhost:8080/",
          "height": 51
        },
        "outputId": "21f41bf6-8b35-4a31-effb-41c996f3eb12"
      },
      "source": [
        "#print function\n",
        "n=int(input())\n",
        "for i in range(n):    \n",
        "    print(i+1, end=\" \")"
      ],
      "execution_count": 2,
      "outputs": [
        {
          "output_type": "stream",
          "text": [
            "enter a number: 3\n",
            "1 2 3 "
          ],
          "name": "stdout"
        }
      ]
    },
    {
      "cell_type": "code",
      "metadata": {
        "id": "hkYEtesI1Zen",
        "colab_type": "code",
        "colab": {}
      },
      "source": [
        "#list comprehension\n",
        "x = int(input())\n",
        "y = int(input())\n",
        "z = int(input())\n",
        "N = int(input())\n",
        "arr = [[X, Y, Z] \n",
        "for X in range(x+1) \n",
        "for Y in range(y+1) \n",
        "for Z in range(z+1) \n",
        "if X + Y + Z != N]\n",
        "print(arr)"
      ],
      "execution_count": null,
      "outputs": []
    }
  ]
}