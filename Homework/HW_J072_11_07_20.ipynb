{
  "nbformat": 4,
  "nbformat_minor": 0,
  "metadata": {
    "colab": {
      "name": "HW_J072_11_07_20.ipynb",
      "provenance": [],
      "authorship_tag": "ABX9TyOxDf1YosM7mUN+SaY5h3q0",
      "include_colab_link": true
    },
    "kernelspec": {
      "name": "python3",
      "display_name": "Python 3"
    }
  },
  "cells": [
    {
      "cell_type": "markdown",
      "metadata": {
        "id": "view-in-github",
        "colab_type": "text"
      },
      "source": [
        "<a href=\"https://colab.research.google.com/github/saumya-nauni/AI-Sem-V/blob/master/Homework/HW_J072_11_07_20.ipynb\" target=\"_parent\"><img src=\"https://colab.research.google.com/assets/colab-badge.svg\" alt=\"Open In Colab\"/></a>"
      ]
    },
    {
      "cell_type": "markdown",
      "metadata": {
        "id": "GLPL7to1OB9e",
        "colab_type": "text"
      },
      "source": [
        "# **LAB 2**"
      ]
    },
    {
      "cell_type": "markdown",
      "metadata": {
        "id": "QFu7TzyZTDtE",
        "colab_type": "text"
      },
      "source": [
        "# **IMPORTING THE PACKAGES**"
      ]
    },
    {
      "cell_type": "code",
      "metadata": {
        "id": "XT7oSwAAMPLa",
        "colab_type": "code",
        "colab": {}
      },
      "source": [
        "import pandas as pd\n",
        "import numpy as np\n",
        "import matplotlib.pyplot as plt\n",
        "import seaborn as sns"
      ],
      "execution_count": 2,
      "outputs": []
    },
    {
      "cell_type": "code",
      "metadata": {
        "id": "YUobXG3sOBXs",
        "colab_type": "code",
        "colab": {}
      },
      "source": [
        "class DataRead(object):\n",
        "  def __init__(self, file_path):\n",
        "    self.file_path = pd.read_csv(file_path)\n",
        "\n",
        "  def file_read(self):\n",
        "    return self.file_path\n",
        "\n",
        "  def Row(self):\n",
        "    x = int(input('Enter index of the first row:'))\n",
        "    y = int(input('Enter index of the second row:'))\n",
        "    row = self.file_path.iloc[[x, y], :]\n",
        "    return row\n",
        "\n",
        "class DataRead2(DataRead):\n",
        "  def correlation(self):\n",
        "    corr = self.file_path.corr()\n",
        "    sns.heatmap(corr)\n",
        "\n",
        "  def Row(self):\n",
        "    x = int(input('Enter index of the first row:'))\n",
        "    y = int(input('Enter index of second row:'))\n",
        "    z = int(input('Enter index of third row:'))\n",
        "    row = self.file_path.iloc[[x, y, z], :]\n",
        "    return row"
      ],
      "execution_count": 3,
      "outputs": []
    },
    {
      "cell_type": "markdown",
      "metadata": {
        "id": "TX8qf1CzTiT8",
        "colab_type": "text"
      },
      "source": [
        "# **CREATING A CUSTOM CLASS TO READ THE DATA INTO A PANDAS DATAFRAME**"
      ]
    },
    {
      "cell_type": "code",
      "metadata": {
        "id": "O9jWl331Pqm1",
        "colab_type": "code",
        "colab": {}
      },
      "source": [
        "data=('BookTrain.csv')"
      ],
      "execution_count": 4,
      "outputs": []
    },
    {
      "cell_type": "code",
      "metadata": {
        "id": "vUNs4rJ3PuGv",
        "colab_type": "code",
        "colab": {
          "base_uri": "https://localhost:8080/",
          "height": 255
        },
        "outputId": "115c5197-2713-4a2c-b2f2-a78323aa0bb8"
      },
      "source": [
        "df=DataRead(data)\n",
        "print(df.file_read())"
      ],
      "execution_count": 5,
      "outputs": [
        {
          "output_type": "stream",
          "text": [
            "     region  tenure  age  marital  ...  confer  ebill  custcat  churn\n",
            "0         2      13   44        1  ...       0      0        1      1\n",
            "1         3      11   33        1  ...       1      0        4      1\n",
            "2         3      68   52        1  ...       1      0        3      0\n",
            "3         2      33   33        0  ...       0      0        1      1\n",
            "4         2      23   30        1  ...       1      0        3      0\n",
            "..      ...     ...  ...      ...  ...     ...    ...      ...    ...\n",
            "695       1      72   75        0  ...       1      0        2      0\n",
            "696       2      17   35        0  ...       1      1        4      1\n",
            "697       2      65   72        0  ...       1      0        3      0\n",
            "698       1      15   30        1  ...       1      1        4      0\n",
            "699       1      34   33        0  ...       0      0        2      1\n",
            "\n",
            "[700 rows x 36 columns]\n"
          ],
          "name": "stdout"
        }
      ]
    },
    {
      "cell_type": "markdown",
      "metadata": {
        "id": "SsbmOyLlTyfH",
        "colab_type": "text"
      },
      "source": [
        "# **CREATE A CUSTOM FUNCTION 'ROW' WITHIN THE CLASS TO SELECT ANY TWO ROWS FROM THE DATAFRAME.**"
      ]
    },
    {
      "cell_type": "code",
      "metadata": {
        "id": "iPSyFgkERTXD",
        "colab_type": "code",
        "colab": {
          "base_uri": "https://localhost:8080/",
          "height": 165
        },
        "outputId": "8942f91f-b98a-429e-dc72-2927c6f1c5cc"
      },
      "source": [
        "df.Row()"
      ],
      "execution_count": 6,
      "outputs": [
        {
          "output_type": "stream",
          "text": [
            "Enter index of the first row:17\n",
            "Enter index of the second row:4\n"
          ],
          "name": "stdout"
        },
        {
          "output_type": "execute_result",
          "data": {
            "text/html": [
              "<div>\n",
              "<style scoped>\n",
              "    .dataframe tbody tr th:only-of-type {\n",
              "        vertical-align: middle;\n",
              "    }\n",
              "\n",
              "    .dataframe tbody tr th {\n",
              "        vertical-align: top;\n",
              "    }\n",
              "\n",
              "    .dataframe thead th {\n",
              "        text-align: right;\n",
              "    }\n",
              "</style>\n",
              "<table border=\"1\" class=\"dataframe\">\n",
              "  <thead>\n",
              "    <tr style=\"text-align: right;\">\n",
              "      <th></th>\n",
              "      <th>region</th>\n",
              "      <th>tenure</th>\n",
              "      <th>age</th>\n",
              "      <th>marital</th>\n",
              "      <th>address</th>\n",
              "      <th>income</th>\n",
              "      <th>ed</th>\n",
              "      <th>emply</th>\n",
              "      <th>retire</th>\n",
              "      <th>gender</th>\n",
              "      <th>reside</th>\n",
              "      <th>tollfree</th>\n",
              "      <th>equip</th>\n",
              "      <th>callcard</th>\n",
              "      <th>wireless</th>\n",
              "      <th>logmon</th>\n",
              "      <th>tollmon</th>\n",
              "      <th>equipmon</th>\n",
              "      <th>cardmon</th>\n",
              "      <th>wiremon</th>\n",
              "      <th>longten</th>\n",
              "      <th>tollten</th>\n",
              "      <th>equipten</th>\n",
              "      <th>cardten</th>\n",
              "      <th>wireten</th>\n",
              "      <th>multine</th>\n",
              "      <th>voice</th>\n",
              "      <th>pager</th>\n",
              "      <th>internet</th>\n",
              "      <th>callid</th>\n",
              "      <th>callwait</th>\n",
              "      <th>forward</th>\n",
              "      <th>confer</th>\n",
              "      <th>ebill</th>\n",
              "      <th>custcat</th>\n",
              "      <th>churn</th>\n",
              "    </tr>\n",
              "  </thead>\n",
              "  <tbody>\n",
              "    <tr>\n",
              "      <th>17</th>\n",
              "      <td>3</td>\n",
              "      <td>34</td>\n",
              "      <td>48</td>\n",
              "      <td>0</td>\n",
              "      <td>3</td>\n",
              "      <td>49</td>\n",
              "      <td>2</td>\n",
              "      <td>6</td>\n",
              "      <td>0</td>\n",
              "      <td>1</td>\n",
              "      <td>3</td>\n",
              "      <td>1</td>\n",
              "      <td>0</td>\n",
              "      <td>0</td>\n",
              "      <td>0</td>\n",
              "      <td>6.65</td>\n",
              "      <td>18.5</td>\n",
              "      <td>0.0</td>\n",
              "      <td>0.0</td>\n",
              "      <td>0.0</td>\n",
              "      <td>230.80</td>\n",
              "      <td>614.3</td>\n",
              "      <td>0.0</td>\n",
              "      <td>0.0</td>\n",
              "      <td>0.0</td>\n",
              "      <td>0</td>\n",
              "      <td>0</td>\n",
              "      <td>0</td>\n",
              "      <td>0</td>\n",
              "      <td>0</td>\n",
              "      <td>1</td>\n",
              "      <td>1</td>\n",
              "      <td>1</td>\n",
              "      <td>0</td>\n",
              "      <td>3</td>\n",
              "      <td>0</td>\n",
              "    </tr>\n",
              "    <tr>\n",
              "      <th>4</th>\n",
              "      <td>2</td>\n",
              "      <td>23</td>\n",
              "      <td>30</td>\n",
              "      <td>1</td>\n",
              "      <td>9</td>\n",
              "      <td>30</td>\n",
              "      <td>1</td>\n",
              "      <td>2</td>\n",
              "      <td>0</td>\n",
              "      <td>0</td>\n",
              "      <td>4</td>\n",
              "      <td>0</td>\n",
              "      <td>0</td>\n",
              "      <td>0</td>\n",
              "      <td>0</td>\n",
              "      <td>6.30</td>\n",
              "      <td>0.0</td>\n",
              "      <td>0.0</td>\n",
              "      <td>0.0</td>\n",
              "      <td>0.0</td>\n",
              "      <td>157.05</td>\n",
              "      <td>0.0</td>\n",
              "      <td>0.0</td>\n",
              "      <td>0.0</td>\n",
              "      <td>0.0</td>\n",
              "      <td>0</td>\n",
              "      <td>0</td>\n",
              "      <td>0</td>\n",
              "      <td>0</td>\n",
              "      <td>1</td>\n",
              "      <td>0</td>\n",
              "      <td>1</td>\n",
              "      <td>1</td>\n",
              "      <td>0</td>\n",
              "      <td>3</td>\n",
              "      <td>0</td>\n",
              "    </tr>\n",
              "  </tbody>\n",
              "</table>\n",
              "</div>"
            ],
            "text/plain": [
              "    region  tenure  age  marital  ...  confer  ebill  custcat  churn\n",
              "17       3      34   48        0  ...       1      0        3      0\n",
              "4        2      23   30        1  ...       1      0        3      0\n",
              "\n",
              "[2 rows x 36 columns]"
            ]
          },
          "metadata": {
            "tags": []
          },
          "execution_count": 6
        }
      ]
    },
    {
      "cell_type": "markdown",
      "metadata": {
        "id": "QfeU-URoUKLI",
        "colab_type": "text"
      },
      "source": [
        "# **CREATE A SUB CLASS OF DATAREAD AS DATAREAD2 THAT HAS FUNCTION FOR CORRELATION PLOTS.**"
      ]
    },
    {
      "cell_type": "code",
      "metadata": {
        "id": "wXSSBfrESdGN",
        "colab_type": "code",
        "colab": {}
      },
      "source": [
        "df = DataRead2(data)"
      ],
      "execution_count": 7,
      "outputs": []
    },
    {
      "cell_type": "code",
      "metadata": {
        "id": "i0Xd5hEtSj35",
        "colab_type": "code",
        "colab": {
          "base_uri": "https://localhost:8080/",
          "height": 304
        },
        "outputId": "561165bb-92c0-4943-ba0d-2b8a2bd4c02e"
      },
      "source": [
        "df.correlation()"
      ],
      "execution_count": 8,
      "outputs": [
        {
          "output_type": "display_data",
          "data": {
            "image/png": "[encoded data removed]",
            "text/plain": [
              "<Figure size 432x288 with 2 Axes>"
            ]
          },
          "metadata": {
            "tags": [],
            "needs_background": "light"
          }
        }
      ]
    },
    {
      "cell_type": "markdown",
      "metadata": {
        "id": "q-QvXlgRUccE",
        "colab_type": "text"
      },
      "source": [
        "\n",
        "# **CREATE A FUNCTION WITHIN DATAREAD2 TO OVERRIDE THE CUSTOM FUNCTION OF DATAREAD 'ROW' TO SELECT THREE ROWS**"
      ]
    },
    {
      "cell_type": "code",
      "metadata": {
        "id": "pBXXt4cDS7kD",
        "colab_type": "code",
        "colab": {
          "base_uri": "https://localhost:8080/",
          "height": 213
        },
        "outputId": "ebd4b55b-1280-4760-9cce-08b4a29a1a33"
      },
      "source": [
        "df.Row()"
      ],
      "execution_count": 9,
      "outputs": [
        {
          "output_type": "stream",
          "text": [
            "Enter index of the first row:5\n",
            "Enter index of second row:13\n",
            "Enter index of third row:25\n"
          ],
          "name": "stdout"
        },
        {
          "output_type": "execute_result",
          "data": {
            "text/html": [
              "<div>\n",
              "<style scoped>\n",
              "    .dataframe tbody tr th:only-of-type {\n",
              "        vertical-align: middle;\n",
              "    }\n",
              "\n",
              "    .dataframe tbody tr th {\n",
              "        vertical-align: top;\n",
              "    }\n",
              "\n",
              "    .dataframe thead th {\n",
              "        text-align: right;\n",
              "    }\n",
              "</style>\n",
              "<table border=\"1\" class=\"dataframe\">\n",
              "  <thead>\n",
              "    <tr style=\"text-align: right;\">\n",
              "      <th></th>\n",
              "      <th>region</th>\n",
              "      <th>tenure</th>\n",
              "      <th>age</th>\n",
              "      <th>marital</th>\n",
              "      <th>address</th>\n",
              "      <th>income</th>\n",
              "      <th>ed</th>\n",
              "      <th>emply</th>\n",
              "      <th>retire</th>\n",
              "      <th>gender</th>\n",
              "      <th>reside</th>\n",
              "      <th>tollfree</th>\n",
              "      <th>equip</th>\n",
              "      <th>callcard</th>\n",
              "      <th>wireless</th>\n",
              "      <th>logmon</th>\n",
              "      <th>tollmon</th>\n",
              "      <th>equipmon</th>\n",
              "      <th>cardmon</th>\n",
              "      <th>wiremon</th>\n",
              "      <th>longten</th>\n",
              "      <th>tollten</th>\n",
              "      <th>equipten</th>\n",
              "      <th>cardten</th>\n",
              "      <th>wireten</th>\n",
              "      <th>multine</th>\n",
              "      <th>voice</th>\n",
              "      <th>pager</th>\n",
              "      <th>internet</th>\n",
              "      <th>callid</th>\n",
              "      <th>callwait</th>\n",
              "      <th>forward</th>\n",
              "      <th>confer</th>\n",
              "      <th>ebill</th>\n",
              "      <th>custcat</th>\n",
              "      <th>churn</th>\n",
              "    </tr>\n",
              "  </thead>\n",
              "  <tbody>\n",
              "    <tr>\n",
              "      <th>5</th>\n",
              "      <td>2</td>\n",
              "      <td>41</td>\n",
              "      <td>39</td>\n",
              "      <td>0</td>\n",
              "      <td>17</td>\n",
              "      <td>78</td>\n",
              "      <td>2</td>\n",
              "      <td>16</td>\n",
              "      <td>0</td>\n",
              "      <td>1</td>\n",
              "      <td>1</td>\n",
              "      <td>1</td>\n",
              "      <td>0</td>\n",
              "      <td>1</td>\n",
              "      <td>0</td>\n",
              "      <td>11.8</td>\n",
              "      <td>19.25</td>\n",
              "      <td>0.0</td>\n",
              "      <td>13.5</td>\n",
              "      <td>0.00</td>\n",
              "      <td>487.40</td>\n",
              "      <td>798.40</td>\n",
              "      <td>0.00</td>\n",
              "      <td>570.0</td>\n",
              "      <td>0.00</td>\n",
              "      <td>0</td>\n",
              "      <td>0</td>\n",
              "      <td>0</td>\n",
              "      <td>0</td>\n",
              "      <td>1</td>\n",
              "      <td>1</td>\n",
              "      <td>0</td>\n",
              "      <td>0</td>\n",
              "      <td>0</td>\n",
              "      <td>3</td>\n",
              "      <td>0</td>\n",
              "    </tr>\n",
              "    <tr>\n",
              "      <th>13</th>\n",
              "      <td>2</td>\n",
              "      <td>57</td>\n",
              "      <td>54</td>\n",
              "      <td>1</td>\n",
              "      <td>30</td>\n",
              "      <td>115</td>\n",
              "      <td>4</td>\n",
              "      <td>23</td>\n",
              "      <td>0</td>\n",
              "      <td>1</td>\n",
              "      <td>3</td>\n",
              "      <td>1</td>\n",
              "      <td>1</td>\n",
              "      <td>0</td>\n",
              "      <td>1</td>\n",
              "      <td>15.6</td>\n",
              "      <td>46.25</td>\n",
              "      <td>46.7</td>\n",
              "      <td>0.0</td>\n",
              "      <td>61.05</td>\n",
              "      <td>825.35</td>\n",
              "      <td>2624.25</td>\n",
              "      <td>2590.95</td>\n",
              "      <td>0.0</td>\n",
              "      <td>3348.85</td>\n",
              "      <td>1</td>\n",
              "      <td>1</td>\n",
              "      <td>1</td>\n",
              "      <td>1</td>\n",
              "      <td>1</td>\n",
              "      <td>1</td>\n",
              "      <td>1</td>\n",
              "      <td>1</td>\n",
              "      <td>1</td>\n",
              "      <td>4</td>\n",
              "      <td>1</td>\n",
              "    </tr>\n",
              "    <tr>\n",
              "      <th>25</th>\n",
              "      <td>2</td>\n",
              "      <td>1</td>\n",
              "      <td>21</td>\n",
              "      <td>0</td>\n",
              "      <td>0</td>\n",
              "      <td>33</td>\n",
              "      <td>2</td>\n",
              "      <td>0</td>\n",
              "      <td>0</td>\n",
              "      <td>1</td>\n",
              "      <td>3</td>\n",
              "      <td>1</td>\n",
              "      <td>0</td>\n",
              "      <td>1</td>\n",
              "      <td>0</td>\n",
              "      <td>2.2</td>\n",
              "      <td>20.75</td>\n",
              "      <td>0.0</td>\n",
              "      <td>40.5</td>\n",
              "      <td>0.00</td>\n",
              "      <td>2.20</td>\n",
              "      <td>20.75</td>\n",
              "      <td>0.00</td>\n",
              "      <td>40.5</td>\n",
              "      <td>0.00</td>\n",
              "      <td>0</td>\n",
              "      <td>0</td>\n",
              "      <td>0</td>\n",
              "      <td>0</td>\n",
              "      <td>0</td>\n",
              "      <td>1</td>\n",
              "      <td>1</td>\n",
              "      <td>1</td>\n",
              "      <td>0</td>\n",
              "      <td>3</td>\n",
              "      <td>0</td>\n",
              "    </tr>\n",
              "  </tbody>\n",
              "</table>\n",
              "</div>"
            ],
            "text/plain": [
              "    region  tenure  age  marital  ...  confer  ebill  custcat  churn\n",
              "5        2      41   39        0  ...       0      0        3      0\n",
              "13       2      57   54        1  ...       1      1        4      1\n",
              "25       2       1   21        0  ...       1      0        3      0\n",
              "\n",
              "[3 rows x 36 columns]"
            ]
          },
          "metadata": {
            "tags": []
          },
          "execution_count": 9
        }
      ]
    }
  ]
}