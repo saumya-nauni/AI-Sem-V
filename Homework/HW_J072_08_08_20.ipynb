{
  "nbformat": 4,
  "nbformat_minor": 0,
  "metadata": {
    "colab": {
      "name": "HW_J072_08_08_20.ipynb",
      "provenance": [],
      "authorship_tag": "ABX9TyOUqDnoUd58bTgES1Uax9Hy",
      "include_colab_link": true
    },
    "kernelspec": {
      "name": "python3",
      "display_name": "Python 3"
    }
  },
  "cells": [
    {
      "cell_type": "markdown",
      "metadata": {
        "id": "view-in-github",
        "colab_type": "text"
      },
      "source": [
        "<a href=\"https://colab.research.google.com/github/saumya-nauni/AI-Sem-V/blob/master/Homework/HW_J072_08_08_20.ipynb\" target=\"_parent\"><img src=\"https://colab.research.google.com/assets/colab-badge.svg\" alt=\"Open In Colab\"/></a>"
      ]
    },
    {
      "cell_type": "markdown",
      "metadata": {
        "id": "6vJmnhHQe8Lt",
        "colab_type": "text"
      },
      "source": [
        "## **KNAPSACK PROBLEM**"
      ]
    },
    {
      "cell_type": "code",
      "metadata": {
        "id": "XdIrHy2Ke4PN",
        "colab_type": "code",
        "colab": {
          "base_uri": "https://localhost:8080/",
          "height": 136
        },
        "outputId": "93c1f1a5-5bcb-4bb9-f016-d6513edbb767"
      },
      "source": [
        "import sys\n",
        "import heapq\n",
        "\n",
        "def solve(N,M,S,V,E) :\n",
        "\n",
        "    T = tuple(set() for _ in range(N))\n",
        "    for u,v in E :\n",
        "        T[u].add(v)\n",
        "        T[v].add(u)\n",
        "    Total, order, maxValue = sum(V), sorted(range(n), reverse=True, key=(lambda i : V[i]/S[i])), 0\n",
        "        \n",
        "    def getMax(visited, connected, rejected, size, value, rejectedValue, maxValue) :\n",
        "        if value > maxValue :\n",
        "            maxValue = value\n",
        "            \n",
        "        if not connected :\n",
        "            return maxValue\n",
        "        \n",
        "        i = getBest(connected)\n",
        "        if size + S[i] <= M :\n",
        "            maxValue = getMax(visited|{i}, (connected-{i}) | (T[i]-rejected-visited), rejected, size+S[i], value+V[i], rejectedValue, maxValue)\n",
        "            \n",
        "        if Total - (rejectedValue + V[i]) > maxValue :\n",
        "            maxValue = getMax(visited|{i}, connected-{i}, rejected | {i}, size, value, rejectedValue + V[i], maxValue)\n",
        "            \n",
        "        return maxValue\n",
        "\n",
        "    def getBest(connected) :\n",
        "        for i in order :\n",
        "            if i in connected :\n",
        "                return i\n",
        "            \n",
        "    for s in order :\n",
        "        maxValue = getMax(set(),{s},set(),0,0,0,maxValue)\n",
        "\n",
        "    return maxValue\n",
        "\n",
        "T = int(input())\n",
        "for _ in range(T) :\n",
        "    n,m = (int(_) for _ in input().split())\n",
        "    s = tuple(int(_) for _ in input().split())\n",
        "    v = tuple(int(_) for _ in input().split())\n",
        "    e = tuple((int(_)-1 for _ in input().split()) for _ in range(n-1))\n",
        "    print(\"output\",solve(n,m,s,v,e))"
      ],
      "execution_count": 2,
      "outputs": [
        {
          "output_type": "stream",
          "text": [
            "1\n",
            "3 1\n",
            "1 1 1\n",
            "1 2 3\n",
            "1 2\n",
            "1 3\n",
            "output 3\n"
          ],
          "name": "stdout"
        }
      ]
    },
    {
      "cell_type": "code",
      "metadata": {
        "id": "VfiaYhVJiJiK",
        "colab_type": "code",
        "colab": {
          "base_uri": "https://localhost:8080/",
          "height": 170
        },
        "outputId": "64e213c2-f440-4c41-a4d5-4b11911f3099"
      },
      "source": [
        "T = int(input())\n",
        "for _ in range(T) :\n",
        "    n,m = (int(_) for _ in input().split())\n",
        "    s = tuple(int(_) for _ in input().split())\n",
        "    v = tuple(int(_) for _ in input().split())\n",
        "    e = tuple((int(_)-1 for _ in input().split()) for _ in range(n-1))\n",
        "    print(\"output\",solve(n,m,s,v,e))"
      ],
      "execution_count": 3,
      "outputs": [
        {
          "output_type": "stream",
          "text": [
            "1\n",
            "5 3\n",
            "1 1 1 1 1\n",
            "3 5 2 2 3\n",
            "1 2\n",
            "1 3 \n",
            "2 4\n",
            "2 5\n",
            "output 11\n"
          ],
          "name": "stdout"
        }
      ]
    },
    {
      "cell_type": "code",
      "metadata": {
        "id": "bW6Di8MViLoI",
        "colab_type": "code",
        "colab": {
          "base_uri": "https://localhost:8080/",
          "height": 238
        },
        "outputId": "476097fc-78fe-4d03-bd0e-e9e589c047dc"
      },
      "source": [
        "T = int(input())\n",
        "for _ in range(T) :\n",
        "    n,m = (int(_) for _ in input().split())\n",
        "    s = tuple(int(_) for _ in input().split())\n",
        "    v = tuple(int(_) for _ in input().split())\n",
        "    e = tuple((int(_)-1 for _ in input().split()) for _ in range(n-1))\n",
        "    print(\"output\",solve(n,m,s,v,e))"
      ],
      "execution_count": 4,
      "outputs": [
        {
          "output_type": "stream",
          "text": [
            "1\n",
            "9 7\n",
            "1 1 3 2 1 1 1 5 5\n",
            "1 0 8 5 1 2 0 9 14\n",
            "1 2 \n",
            "2 3\n",
            "2 4\n",
            "3 5 \n",
            "3 6\n",
            "4 7\n",
            "4 8 \n",
            "7 9\n",
            "output 15\n"
          ],
          "name": "stdout"
        }
      ]
    },
    {
      "cell_type": "code",
      "metadata": {
        "id": "SDjrc2E3i8Uh",
        "colab_type": "code",
        "colab": {}
      },
      "source": [
        ""
      ],
      "execution_count": null,
      "outputs": []
    }
  ]
}