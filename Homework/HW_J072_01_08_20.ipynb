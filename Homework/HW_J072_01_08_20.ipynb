{
  "nbformat": 4,
  "nbformat_minor": 0,
  "metadata": {
    "colab": {
      "name": "HW_J072_01_08_20.ipynb",
      "provenance": [],
      "authorship_tag": "ABX9TyM2NyETY/n75iWAJuF0ruEW",
      "include_colab_link": true
    },
    "kernelspec": {
      "name": "python3",
      "display_name": "Python 3"
    }
  },
  "cells": [
    {
      "cell_type": "markdown",
      "metadata": {
        "id": "view-in-github",
        "colab_type": "text"
      },
      "source": [
        "<a href=\"https://colab.research.google.com/github/saumya-nauni/AI-Sem-V/blob/master/Homework/HW_J072_01_08_20.ipynb\" target=\"_parent\"><img src=\"https://colab.research.google.com/assets/colab-badge.svg\" alt=\"Open In Colab\"/></a>"
      ]
    },
    {
      "cell_type": "markdown",
      "metadata": {
        "id": "oJlil3G2oDx2",
        "colab_type": "text"
      },
      "source": [
        "**1. VALIDATING POSTAL CODE**"
      ]
    },
    {
      "cell_type": "code",
      "metadata": {
        "id": "rty0kUdvklIk",
        "colab_type": "code",
        "colab": {}
      },
      "source": [
        "regex_integer_in_range = r\"^[1-9]\\d{5}$\"\n",
        "regex_alternating_repetitive_digit_pair = r\"(.)(?=.\\1)\""
      ],
      "execution_count": 1,
      "outputs": []
    },
    {
      "cell_type": "code",
      "metadata": {
        "id": "HHjFlpFrn7kH",
        "colab_type": "code",
        "colab": {}
      },
      "source": [
        "import re\n",
        "P = input()\n",
        "\n",
        "print (bool(re.match(regex_integer_in_range, P)) \n",
        "and len(re.findall(regex_alternating_repetitive_digit_pair, P)) < 2)"
      ],
      "execution_count": null,
      "outputs": []
    },
    {
      "cell_type": "markdown",
      "metadata": {
        "id": "T6_jgzVpoUeg",
        "colab_type": "text"
      },
      "source": [
        "**2. THE COIN CHANGE PROBLEM**"
      ]
    },
    {
      "cell_type": "code",
      "metadata": {
        "id": "cAs6WfHyoYNz",
        "colab_type": "code",
        "colab": {}
      },
      "source": [
        "import math\n",
        "import os\n",
        "import random\n",
        "import re\n",
        "import sys\n",
        "\n",
        "def getWays(n, c):\n",
        "    arr = [0 for i in range(n+1)]\n",
        "    arr[0] = 1\n",
        "\n",
        "    for k in c:\n",
        "        for i in range(1,n+1):\n",
        "            if n>=k:\n",
        "                if i>=k:\n",
        "                    arr[i] += arr[i-k]\n",
        "    return arr\n",
        "    \n",
        "\n",
        "if __name__ == '__main__':\n",
        "    fptr = open(os.environ['OUTPUT_PATH'], 'w')\n",
        "\n",
        "    first_multiple_input = input().rstrip().split()\n",
        "\n",
        "    n = int(first_multiple_input[0])\n",
        "\n",
        "    m = int(first_multiple_input[1])\n",
        "\n",
        "    c = list(map(int, input().rstrip().split()))\n",
        "\n",
        "    ways = getWays(n, c)\n",
        "    ways=ways[-1]\n",
        "\n",
        "    fptr.write(str(ways) + '\\n')\n",
        "\n",
        "    fptr.close()"
      ],
      "execution_count": null,
      "outputs": []
    },
    {
      "cell_type": "markdown",
      "metadata": {
        "id": "ZKRqEaFXGhdO",
        "colab_type": "text"
      },
      "source": [
        "**3. SHERLOCK AND COST**"
      ]
    },
    {
      "cell_type": "code",
      "metadata": {
        "id": "eG6zCAPrpDih",
        "colab_type": "code",
        "colab": {}
      },
      "source": [
        "import math\n",
        "import os\n",
        "import random\n",
        "import re\n",
        "import sys\n",
        "\n",
        "def cost(B):\n",
        "    L=len(B)\n",
        "    dp=matrix = [[0 for i in range(2)] for i in range(L)]\n",
        "    i=1\n",
        "    while i<len(B):\n",
        "        dp[i][0]=max(dp[i-1][0], dp[i-1][1]+B[i-1]-1)\n",
        "        dp[i][1]=max(dp[i-1][0]+B[i]-1, dp[i-1][1]+abs(B[i]-B[i-1]))\n",
        "        i += 1\n",
        "    return max(dp[L-1][0],dp[L-1][1])\n",
        "if __name__ == '__main__':\n",
        "    fptr = open(os.environ['OUTPUT_PATH'], 'w')\n",
        "\n",
        "    t = int(input())\n",
        "\n",
        "    for t_itr in range(t):\n",
        "        n = int(input())\n",
        "\n",
        "        B = list(map(int, input().rstrip().split()))\n",
        "\n",
        "        result = cost(B)\n",
        "\n",
        "        fptr.write(str(result) + '\\n')\n",
        "\n",
        "    fptr.close()\n"
      ],
      "execution_count": null,
      "outputs": []
    }
  ]
}