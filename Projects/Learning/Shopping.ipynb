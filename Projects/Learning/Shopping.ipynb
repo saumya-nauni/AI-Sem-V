{
  "nbformat": 4,
  "nbformat_minor": 0,
  "metadata": {
    "colab": {
      "name": "Shopping.ipynb",
      "provenance": [],
      "authorship_tag": "ABX9TyP1meUMeJELZayFMTj0djxR"
    },
    "kernelspec": {
      "name": "python3",
      "display_name": "Python 3"
    }
  },
  "cells": [
    {
      "cell_type": "markdown",
      "metadata": {
        "id": "WVcfdgTXHoWH"
      },
      "source": [
        "# **CS50’s Introduction to Artificial Intelligence with Python**"
      ]
    },
    {
      "cell_type": "markdown",
      "metadata": {
        "id": "71xPRpLzHzi4"
      },
      "source": [
        "### **Shopping**"
      ]
    },
    {
      "cell_type": "code",
      "metadata": {
        "id": "zSwzOzIlHVXy"
      },
      "source": [
        "import csv\n",
        "import sys\n",
        "\n",
        "from sklearn.model_selection import train_test_split\n",
        "from sklearn.neighbors import KNeighborsClassifier\n",
        "\n",
        "TEST_SIZE = 0.4\n",
        "\n",
        "\n",
        "def main():\n",
        "\n",
        "    if len(sys.argv) != 2:\n",
        "        sys.exit(\"Usage: python shopping.py data\")\n",
        "\n",
        "    evidence, labels = load_data(sys.argv[1])\n",
        "    X_train, X_test, y_train, y_test = train_test_split(\n",
        "        evidence, labels, test_size=TEST_SIZE\n",
        "    )\n",
        "\n",
        "    model = train_model(X_train, y_train)\n",
        "    predictions = model.predict(X_test)\n",
        "    sensitivity, specificity = evaluate(y_test, predictions)\n",
        "\n",
        "    print(f\"Correct: {(y_test == predictions).sum()}\")\n",
        "    print(f\"Incorrect: {(y_test != predictions).sum()}\")\n",
        "    print(f\"True Positive Rate: {100 * sensitivity:.2f}%\")\n",
        "    print(f\"True Negative Rate: {100 * specificity:.2f}%\")\n",
        "\n",
        "\n",
        "def load_data(filename):\n",
        " \n",
        "    evidence = list()\n",
        "    labels = list()\n",
        "\n",
        "    abbr_to_num = dict(Jan=0, Feb=1, Mar=2, Apr=3, May=4, June=5, Jul=6, Aug=7, Sep=8, Oct=9, Nov=10, Dec=11)\n",
        "\n",
        "    with open(filename) as f:\n",
        "        reader = csv.DictReader(f)\n",
        "        for row in reader:\n",
        "            evidence.append([\n",
        "                int(row[\"Administrative\"]),\n",
        "                float(row[\"Administrative_Duration\"]),\n",
        "                int(row[\"Informational\"]),\n",
        "                float(row[\"Informational_Duration\"]),\n",
        "                int(row[\"ProductRelated\"]),\n",
        "                float(row[\"ProductRelated_Duration\"]),\n",
        "                float(row[\"BounceRates\"]),\n",
        "                float(row[\"ExitRates\"]),\n",
        "                float(row[\"PageValues\"]),\n",
        "                float(row[\"SpecialDay\"]),\n",
        "                abbr_to_num[row[\"Month\"]],\n",
        "                int(row[\"OperatingSystems\"]),\n",
        "                int(row[\"Browser\"]),\n",
        "                int(row[\"Region\"]),\n",
        "                int(row[\"TrafficType\"]),\n",
        "                1 if row[\"VisitorType\"] == \"Returning_Visitor\" else 0,\n",
        "                1 if row[\"Weekend\"] == \"TRUE\" else 0,\n",
        "            ])\n",
        "            labels.append(1 if row[\"Revenue\"] == \"TRUE\" else 0)\n",
        "\n",
        "    return evidence, labels\n",
        "\n",
        "\n",
        "def train_model(evidence, labels):\n",
        " \n",
        "    model = KNeighborsClassifier(n_neighbors=1)\n",
        "    model.fit(evidence, labels)\n",
        "\n",
        "    return model\n",
        "\n",
        "\n",
        "def evaluate(labels, predictions):\n",
        "\n",
        "    sensitivity = float(0)\n",
        "    specificity = float(0)\n",
        "\n",
        "    total_positive = float(0)\n",
        "    total_negative = float(0)\n",
        "\n",
        "    for label, prediction in zip(labels, predictions):\n",
        "\n",
        "        if label == 1:\n",
        "            total_positive += 1\n",
        "            if label == prediction:\n",
        "                sensitivity += 1\n",
        "\n",
        "        if label == 0:\n",
        "            total_negative += 1\n",
        "            if label == prediction:\n",
        "                specificity += 1\n",
        "\n",
        "    sensitivity /= total_positive\n",
        "    specificity /= total_negative\n",
        "\n",
        "    return sensitivity, specificity\n",
        "\n",
        "\n",
        "if __name__ == \"__main__\":\n",
        "    main()"
      ],
      "execution_count": null,
      "outputs": []
    }
  ]
}