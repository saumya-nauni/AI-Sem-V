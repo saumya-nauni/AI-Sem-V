{
  "nbformat": 4,
  "nbformat_minor": 0,
  "metadata": {
    "colab": {
      "name": "Neural Network Project",
      "provenance": [],
      "mount_file_id": "1Fj9U4N09s7pIymsESV-Mvkqf8uBR3Flh",
      "authorship_tag": "ABX9TyPI4cDtQTnVtptAjW7eWZpW"
    },
    "kernelspec": {
      "name": "python3",
      "display_name": "Python 3"
    },
    "accelerator": "GPU"
  },
  "cells": [
    {
      "cell_type": "markdown",
      "metadata": {
        "id": "_SjybfupB9db"
      },
      "source": [
        "# **CS50’s Introduction to Artificial Intelligence with Python**"
      ]
    },
    {
      "cell_type": "markdown",
      "metadata": {
        "id": "XbXBbkx2CTqY"
      },
      "source": [
        "### **Identifying which Traffic sign appears in a photograph.**"
      ]
    },
    {
      "cell_type": "code",
      "metadata": {
        "id": "8xabHHXNA1xw"
      },
      "source": [
        "import cv2\n",
        "import numpy as np\n",
        "import os\n",
        "import sys\n",
        "from sklearn.model_selection import train_test_split\n",
        "\n",
        "os.environ['TF_CPP_MIN_LOG_LEVEL'] = '2'\n",
        "import tensorflow as tf\n",
        "\n",
        "\n",
        "EPOCHS = 10\n",
        "IMG_WIDTH = 30\n",
        "IMG_HEIGHT = 30\n",
        "NUM_CATEGORIES = 43\n",
        "TEST_SIZE = 0.4\n",
        "\n",
        "\n",
        "def main():\n",
        "\n",
        "    if len(sys.argv) not in [2, 3]:\n",
        "        sys.exit(\"Usage: python traffic.py data_directory [model.h5]\")\n",
        "\n",
        "    images, labels = load_data(sys.argv[1])\n",
        "\n",
        "    labels = tf.keras.utils.to_categorical(labels)\n",
        "    x_train, x_test, y_train, y_test = train_test_split(\n",
        "        np.array(images), np.array(labels), test_size=TEST_SIZE\n",
        "    )\n",
        "\n",
        "    model = get_model()\n",
        "\n",
        "    model.fit(x_train, y_train, epochs=EPOCHS)\n",
        "\n",
        "    model.evaluate(x_test,  y_test, verbose=2)\n",
        "\n",
        "    if len(sys.argv) == 3:\n",
        "        filename = sys.argv[2]\n",
        "        model.save(filename)\n",
        "        print(f\"Model saved to {filename}.\")\n",
        "\n",
        "\n",
        "def load_data(data_dir):\n",
        "\n",
        "    images = list()\n",
        "    labels = list()\n",
        "\n",
        "    for folder in os.listdir(data_dir):\n",
        "        folder_path = os.path.join(data_dir, folder)\n",
        "        if os.path.isdir(folder_path):\n",
        "            print(f\"Loading files from {folder_path}...\")\n",
        "            for file in os.listdir(folder_path):\n",
        "                try:\n",
        "                    image = cv2.imread(os.path.join(folder_path, file), cv2.IMREAD_COLOR)\n",
        "                    image = cv2.resize(image, (IMG_WIDTH, IMG_HEIGHT), interpolation=cv2.INTER_AREA)\n",
        "                    images.append(image)\n",
        "                    labels.append(int(folder))\n",
        "                except Exception as e:\n",
        "                    print(f\"There is a problem with file: {file}\")\n",
        "                    print(str(e))\n",
        "\n",
        "    return images, labels\n",
        "\n",
        "\n",
        "def get_model():\n",
        "\n",
        "    model = tf.keras.models.Sequential([\n",
        "\n",
        "        tf.keras.layers.Conv2D(\n",
        "            32, (3, 3), activation=\"relu\", input_shape=(IMG_WIDTH, IMG_HEIGHT, 3)\n",
        "        ),\n",
        "\n",
        "        tf.keras.layers.MaxPooling2D(pool_size=(3, 3)),\n",
        "\n",
        "        tf.keras.layers.Flatten(),\n",
        "        tf.keras.layers.Dropout(0.2),\n",
        "\n",
        "        tf.keras.layers.Dense(NUM_CATEGORIES * 32, activation=\"relu\"),\n",
        "        tf.keras.layers.Dropout(0.2),\n",
        "\n",
        "        tf.keras.layers.Dense(NUM_CATEGORIES * 16, activation=\"relu\"),\n",
        "\n",
        "        tf.keras.layers.Dense(NUM_CATEGORIES * 8, activation=\"relu\"),\n",
        "\n",
        "        tf.keras.layers.Dense(NUM_CATEGORIES, activation=\"softmax\")\n",
        "    ])\n",
        "\n",
        "    model.compile(optimizer=\"adam\", loss=\"categorical_crossentropy\", metrics=[\"accuracy\"])\n",
        "\n",
        "    return model\n",
        "\n",
        "\n",
        "if __name__ == \"__main__\":\n",
        "    main()"
      ],
      "execution_count": null,
      "outputs": []
    }
  ]
}